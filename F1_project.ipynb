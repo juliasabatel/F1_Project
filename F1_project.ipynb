{
 "cells": [
  {
   "cell_type": "markdown",
   "id": "258c382d",
   "metadata": {},
   "source": [
    "# SET UP"
   ]
  },
  {
   "cell_type": "code",
   "execution_count": 4,
   "id": "aef9807c",
   "metadata": {},
   "outputs": [
    {
     "name": "stdout",
     "output_type": "stream",
     "text": [
      "Requirement already satisfied: ipython in /Users/juliasabatel/opt/anaconda3/lib/python3.9/site-packages (8.2.0)\n",
      "Requirement already satisfied: traitlets>=5 in /Users/juliasabatel/opt/anaconda3/lib/python3.9/site-packages (from ipython) (5.1.1)\n",
      "Requirement already satisfied: appnope in /Users/juliasabatel/opt/anaconda3/lib/python3.9/site-packages (from ipython) (0.1.2)\n",
      "Requirement already satisfied: pexpect>4.3 in /Users/juliasabatel/opt/anaconda3/lib/python3.9/site-packages (from ipython) (4.8.0)\n",
      "Requirement already satisfied: setuptools>=18.5 in /Users/juliasabatel/opt/anaconda3/lib/python3.9/site-packages (from ipython) (61.2.0)\n",
      "Requirement already satisfied: stack-data in /Users/juliasabatel/opt/anaconda3/lib/python3.9/site-packages (from ipython) (0.2.0)\n",
      "Requirement already satisfied: jedi>=0.16 in /Users/juliasabatel/opt/anaconda3/lib/python3.9/site-packages (from ipython) (0.18.1)\n",
      "Requirement already satisfied: prompt-toolkit!=3.0.0,!=3.0.1,<3.1.0,>=2.0.0 in /Users/juliasabatel/opt/anaconda3/lib/python3.9/site-packages (from ipython) (3.0.20)\n",
      "Requirement already satisfied: decorator in /Users/juliasabatel/opt/anaconda3/lib/python3.9/site-packages (from ipython) (5.1.1)\n",
      "Requirement already satisfied: pygments>=2.4.0 in /Users/juliasabatel/opt/anaconda3/lib/python3.9/site-packages (from ipython) (2.11.2)\n",
      "Requirement already satisfied: pickleshare in /Users/juliasabatel/opt/anaconda3/lib/python3.9/site-packages (from ipython) (0.7.5)\n",
      "Requirement already satisfied: backcall in /Users/juliasabatel/opt/anaconda3/lib/python3.9/site-packages (from ipython) (0.2.0)\n",
      "Requirement already satisfied: matplotlib-inline in /Users/juliasabatel/opt/anaconda3/lib/python3.9/site-packages (from ipython) (0.1.2)\n",
      "Requirement already satisfied: parso<0.9.0,>=0.8.0 in /Users/juliasabatel/opt/anaconda3/lib/python3.9/site-packages (from jedi>=0.16->ipython) (0.8.3)\n",
      "Requirement already satisfied: ptyprocess>=0.5 in /Users/juliasabatel/opt/anaconda3/lib/python3.9/site-packages (from pexpect>4.3->ipython) (0.7.0)\n",
      "Requirement already satisfied: wcwidth in /Users/juliasabatel/opt/anaconda3/lib/python3.9/site-packages (from prompt-toolkit!=3.0.0,!=3.0.1,<3.1.0,>=2.0.0->ipython) (0.2.5)\n",
      "Requirement already satisfied: pure-eval in /Users/juliasabatel/opt/anaconda3/lib/python3.9/site-packages (from stack-data->ipython) (0.2.2)\n",
      "Requirement already satisfied: executing in /Users/juliasabatel/opt/anaconda3/lib/python3.9/site-packages (from stack-data->ipython) (0.8.3)\n",
      "Requirement already satisfied: asttokens in /Users/juliasabatel/opt/anaconda3/lib/python3.9/site-packages (from stack-data->ipython) (2.0.5)\n",
      "Requirement already satisfied: six in /Users/juliasabatel/opt/anaconda3/lib/python3.9/site-packages (from asttokens->stack-data->ipython) (1.16.0)\n",
      "Note: you may need to restart the kernel to use updated packages.\n",
      "Requirement already satisfied: seaborn in /Users/juliasabatel/opt/anaconda3/lib/python3.9/site-packages (0.11.2)\n",
      "Requirement already satisfied: scipy>=1.0 in /Users/juliasabatel/opt/anaconda3/lib/python3.9/site-packages (from seaborn) (1.7.3)\n",
      "Requirement already satisfied: pandas>=0.23 in /Users/juliasabatel/opt/anaconda3/lib/python3.9/site-packages (from seaborn) (1.4.2)\n",
      "Requirement already satisfied: matplotlib>=2.2 in /Users/juliasabatel/opt/anaconda3/lib/python3.9/site-packages (from seaborn) (3.5.1)\n",
      "Requirement already satisfied: numpy>=1.15 in /Users/juliasabatel/opt/anaconda3/lib/python3.9/site-packages (from seaborn) (1.21.5)\n",
      "Requirement already satisfied: packaging>=20.0 in /Users/juliasabatel/opt/anaconda3/lib/python3.9/site-packages (from matplotlib>=2.2->seaborn) (21.3)\n",
      "Requirement already satisfied: python-dateutil>=2.7 in /Users/juliasabatel/opt/anaconda3/lib/python3.9/site-packages (from matplotlib>=2.2->seaborn) (2.8.2)\n",
      "Requirement already satisfied: pillow>=6.2.0 in /Users/juliasabatel/opt/anaconda3/lib/python3.9/site-packages (from matplotlib>=2.2->seaborn) (9.0.1)\n",
      "Requirement already satisfied: kiwisolver>=1.0.1 in /Users/juliasabatel/opt/anaconda3/lib/python3.9/site-packages (from matplotlib>=2.2->seaborn) (1.3.2)\n",
      "Requirement already satisfied: pyparsing>=2.2.1 in /Users/juliasabatel/opt/anaconda3/lib/python3.9/site-packages (from matplotlib>=2.2->seaborn) (3.0.4)\n",
      "Requirement already satisfied: cycler>=0.10 in /Users/juliasabatel/opt/anaconda3/lib/python3.9/site-packages (from matplotlib>=2.2->seaborn) (0.11.0)\n",
      "Requirement already satisfied: fonttools>=4.22.0 in /Users/juliasabatel/opt/anaconda3/lib/python3.9/site-packages (from matplotlib>=2.2->seaborn) (4.25.0)\n",
      "Requirement already satisfied: pytz>=2020.1 in /Users/juliasabatel/opt/anaconda3/lib/python3.9/site-packages (from pandas>=0.23->seaborn) (2021.3)\n",
      "Requirement already satisfied: six>=1.5 in /Users/juliasabatel/opt/anaconda3/lib/python3.9/site-packages (from python-dateutil>=2.7->matplotlib>=2.2->seaborn) (1.16.0)\n",
      "Note: you may need to restart the kernel to use updated packages.\n"
     ]
    }
   ],
   "source": [
    "%pip install ipython\n",
    "%pip install seaborn\n",
    "%matplotlib inline"
   ]
  },
  {
   "cell_type": "code",
   "execution_count": 57,
   "id": "fbf4cd2c",
   "metadata": {},
   "outputs": [
    {
     "name": "stdout",
     "output_type": "stream",
     "text": [
      "Requirement already satisfied: beautifulsoup4 in /Users/juliasabatel/opt/anaconda3/lib/python3.9/site-packages (4.11.1)\n",
      "Requirement already satisfied: soupsieve>1.2 in /Users/juliasabatel/opt/anaconda3/lib/python3.9/site-packages (from beautifulsoup4) (2.3.1)\n",
      "Note: you may need to restart the kernel to use updated packages.\n"
     ]
    }
   ],
   "source": [
    "%pip install beautifulsoup4"
   ]
  },
  {
   "cell_type": "code",
   "execution_count": 66,
   "id": "02e9f4b1",
   "metadata": {},
   "outputs": [
    {
     "name": "stdout",
     "output_type": "stream",
     "text": [
      "Requirement already satisfied: webdriver-manager in /Users/juliasabatel/opt/anaconda3/lib/python3.9/site-packages (3.8.4)\n",
      "Requirement already satisfied: tqdm in /Users/juliasabatel/opt/anaconda3/lib/python3.9/site-packages (from webdriver-manager) (4.64.0)\n",
      "Requirement already satisfied: requests in /Users/juliasabatel/opt/anaconda3/lib/python3.9/site-packages (from webdriver-manager) (2.27.1)\n",
      "Requirement already satisfied: python-dotenv in /Users/juliasabatel/opt/anaconda3/lib/python3.9/site-packages (from webdriver-manager) (0.21.0)\n",
      "Requirement already satisfied: urllib3<1.27,>=1.21.1 in /Users/juliasabatel/opt/anaconda3/lib/python3.9/site-packages (from requests->webdriver-manager) (1.26.9)\n",
      "Requirement already satisfied: charset-normalizer~=2.0.0 in /Users/juliasabatel/opt/anaconda3/lib/python3.9/site-packages (from requests->webdriver-manager) (2.0.4)\n",
      "Requirement already satisfied: idna<4,>=2.5 in /Users/juliasabatel/opt/anaconda3/lib/python3.9/site-packages (from requests->webdriver-manager) (3.3)\n",
      "Requirement already satisfied: certifi>=2017.4.17 in /Users/juliasabatel/opt/anaconda3/lib/python3.9/site-packages (from requests->webdriver-manager) (2021.10.8)\n",
      "Note: you may need to restart the kernel to use updated packages.\n"
     ]
    }
   ],
   "source": [
    "%pip install webdriver-manager"
   ]
  },
  {
   "cell_type": "code",
   "execution_count": 5,
   "id": "389f73ba",
   "metadata": {},
   "outputs": [
    {
     "name": "stdout",
     "output_type": "stream",
     "text": [
      "Collecting fastf1\n",
      "  Downloading fastf1-2.3.0-py3-none-any.whl (79 kB)\n",
      "\u001b[K     |████████████████████████████████| 79 kB 1.7 MB/s eta 0:00:01\n",
      "\u001b[?25hRequirement already satisfied: scipy in /Users/juliasabatel/opt/anaconda3/lib/python3.9/site-packages (from fastf1) (1.7.3)\n",
      "Collecting thefuzz\n",
      "  Downloading thefuzz-0.19.0-py2.py3-none-any.whl (17 kB)\n",
      "Requirement already satisfied: matplotlib>=3.3.3 in /Users/juliasabatel/opt/anaconda3/lib/python3.9/site-packages (from fastf1) (3.5.1)\n",
      "Collecting signalr-client-aio\n",
      "  Downloading signalr_client_aio-0.0.1.6.2-py2.py3-none-any.whl (8.0 kB)\n",
      "Requirement already satisfied: pandas>=1.1.0 in /Users/juliasabatel/opt/anaconda3/lib/python3.9/site-packages (from fastf1) (1.4.2)\n",
      "Requirement already satisfied: requests in /Users/juliasabatel/opt/anaconda3/lib/python3.9/site-packages (from fastf1) (2.27.1)\n",
      "Collecting requests-cache>=0.8.0\n",
      "  Downloading requests_cache-0.9.7-py3-none-any.whl (48 kB)\n",
      "\u001b[K     |████████████████████████████████| 48 kB 7.3 MB/s  eta 0:00:01\n",
      "\u001b[?25hRequirement already satisfied: numpy>=1.17.3 in /Users/juliasabatel/opt/anaconda3/lib/python3.9/site-packages (from fastf1) (1.21.5)\n",
      "Collecting timple>=0.1.2\n",
      "  Downloading timple-0.1.5-py3-none-any.whl (17 kB)\n",
      "Requirement already satisfied: python-dateutil>=2.7 in /Users/juliasabatel/opt/anaconda3/lib/python3.9/site-packages (from matplotlib>=3.3.3->fastf1) (2.8.2)\n",
      "Requirement already satisfied: packaging>=20.0 in /Users/juliasabatel/opt/anaconda3/lib/python3.9/site-packages (from matplotlib>=3.3.3->fastf1) (21.3)\n",
      "Requirement already satisfied: cycler>=0.10 in /Users/juliasabatel/opt/anaconda3/lib/python3.9/site-packages (from matplotlib>=3.3.3->fastf1) (0.11.0)\n",
      "Requirement already satisfied: kiwisolver>=1.0.1 in /Users/juliasabatel/opt/anaconda3/lib/python3.9/site-packages (from matplotlib>=3.3.3->fastf1) (1.3.2)\n",
      "Requirement already satisfied: pillow>=6.2.0 in /Users/juliasabatel/opt/anaconda3/lib/python3.9/site-packages (from matplotlib>=3.3.3->fastf1) (9.0.1)\n",
      "Requirement already satisfied: fonttools>=4.22.0 in /Users/juliasabatel/opt/anaconda3/lib/python3.9/site-packages (from matplotlib>=3.3.3->fastf1) (4.25.0)\n",
      "Requirement already satisfied: pyparsing>=2.2.1 in /Users/juliasabatel/opt/anaconda3/lib/python3.9/site-packages (from matplotlib>=3.3.3->fastf1) (3.0.4)\n",
      "Requirement already satisfied: pytz>=2020.1 in /Users/juliasabatel/opt/anaconda3/lib/python3.9/site-packages (from pandas>=1.1.0->fastf1) (2021.3)\n",
      "Requirement already satisfied: six>=1.5 in /Users/juliasabatel/opt/anaconda3/lib/python3.9/site-packages (from python-dateutil>=2.7->matplotlib>=3.3.3->fastf1) (1.16.0)\n",
      "Requirement already satisfied: attrs>=21.2 in /Users/juliasabatel/opt/anaconda3/lib/python3.9/site-packages (from requests-cache>=0.8.0->fastf1) (21.4.0)\n",
      "Requirement already satisfied: appdirs>=1.4.4 in /Users/juliasabatel/opt/anaconda3/lib/python3.9/site-packages (from requests-cache>=0.8.0->fastf1) (1.4.4)\n",
      "Requirement already satisfied: urllib3>=1.25.5 in /Users/juliasabatel/opt/anaconda3/lib/python3.9/site-packages (from requests-cache>=0.8.0->fastf1) (1.26.9)\n",
      "Collecting url-normalize>=1.4\n",
      "  Downloading url_normalize-1.4.3-py2.py3-none-any.whl (6.8 kB)\n",
      "Collecting cattrs>=22.2\n",
      "  Downloading cattrs-22.2.0-py3-none-any.whl (35 kB)\n",
      "Requirement already satisfied: exceptiongroup in /Users/juliasabatel/opt/anaconda3/lib/python3.9/site-packages (from cattrs>=22.2->requests-cache>=0.8.0->fastf1) (1.0.1)\n",
      "Requirement already satisfied: charset-normalizer~=2.0.0 in /Users/juliasabatel/opt/anaconda3/lib/python3.9/site-packages (from requests->fastf1) (2.0.4)\n",
      "Requirement already satisfied: idna<4,>=2.5 in /Users/juliasabatel/opt/anaconda3/lib/python3.9/site-packages (from requests->fastf1) (3.3)\n",
      "Requirement already satisfied: certifi>=2017.4.17 in /Users/juliasabatel/opt/anaconda3/lib/python3.9/site-packages (from requests->fastf1) (2021.10.8)\n",
      "Collecting websockets>=4.0.1\n",
      "  Downloading websockets-10.4-cp39-cp39-macosx_10_9_x86_64.whl (97 kB)\n",
      "\u001b[K     |████████████████████████████████| 97 kB 2.4 MB/s eta 0:00:011\n",
      "\u001b[?25hInstalling collected packages: websockets, url-normalize, cattrs, timple, thefuzz, signalr-client-aio, requests-cache, fastf1\n",
      "Successfully installed cattrs-22.2.0 fastf1-2.3.0 requests-cache-0.9.7 signalr-client-aio-0.0.1.6.2 thefuzz-0.19.0 timple-0.1.5 url-normalize-1.4.3 websockets-10.4\n"
     ]
    }
   ],
   "source": [
    " !pip install fastf1  #gives lap timing,car telemetry,position,tyre data,weather data,the event schedule and session"
   ]
  },
  {
   "cell_type": "code",
   "execution_count": 35,
   "id": "9772d27b",
   "metadata": {},
   "outputs": [],
   "source": [
    "import pandas as pd\n",
    "import numpy as np\n",
    "import seaborn as sns\n",
    "import fastf1 as ff1\n",
    "from fastf1 import plotting #team names and colors\n",
    "import matplotlib\n",
    "import matplotlib.pyplot as plt\n",
    "import matplotlib as mpl\n",
    "from matplotlib.collections import LineCollection\n",
    "from matplotlib import cm\n",
    "import fastf1 as ff1\n",
    "from fastf1.core import Laps\n",
    "from fastf1 import utils\n",
    "from fastf1 import plotting\n",
    "plotting.setup_mpl()\n",
    "from timple.timedelta import strftimedelta\n",
    "import warnings\n",
    "warnings.filterwarnings('ignore')  \n",
    "\n",
    "pd.set_option('display.max_columns', None)"
   ]
  },
  {
   "cell_type": "code",
   "execution_count": 58,
   "id": "0d6f36fd",
   "metadata": {},
   "outputs": [],
   "source": [
    "import requests as req\n",
    "\n",
    "from bs4 import BeautifulSoup as bs"
   ]
  },
  {
   "cell_type": "code",
   "execution_count": 67,
   "id": "542953f9",
   "metadata": {},
   "outputs": [],
   "source": [
    "from selenium import webdriver"
   ]
  },
  {
   "cell_type": "code",
   "execution_count": 68,
   "id": "87d554a1",
   "metadata": {},
   "outputs": [],
   "source": [
    "from selenium.webdriver.chrome.options import Options\n",
    "from webdriver_manager.chrome import ChromeDriverManager"
   ]
  },
  {
   "cell_type": "code",
   "execution_count": 38,
   "id": "d6ffc6b9",
   "metadata": {},
   "outputs": [],
   "source": [
    "ff1.Cache.enable_cache('./cache/')"
   ]
  },
  {
   "cell_type": "code",
   "execution_count": null,
   "id": "36fc3169",
   "metadata": {},
   "outputs": [],
   "source": [
    "#impostación data"
   ]
  },
  {
   "cell_type": "code",
   "execution_count": 13,
   "id": "63506e75",
   "metadata": {},
   "outputs": [],
   "source": [
    "circuits = pd.read_csv('./f1_database/circuits.csv', encoding='latin1')\n",
    "circuits2 = circuits.copy() "
   ]
  },
  {
   "cell_type": "code",
   "execution_count": 27,
   "id": "6170046b",
   "metadata": {},
   "outputs": [],
   "source": [
    "constructor_results = pd.read_csv('./f1_database/constructor_results.csv', encoding='latin1')\n",
    "constructor_results2 = constructor_results.copy() "
   ]
  },
  {
   "cell_type": "code",
   "execution_count": 29,
   "id": "c3963437",
   "metadata": {},
   "outputs": [],
   "source": [
    "constructor_standings = pd.read_csv('./f1_database/constructor_standings.csv', encoding='latin1')\n",
    "constructor_standings2 = constructor_standings.copy() "
   ]
  },
  {
   "cell_type": "code",
   "execution_count": 30,
   "id": "1544ed5c",
   "metadata": {},
   "outputs": [],
   "source": [
    "constructors = pd.read_csv('./f1_database/constructors.csv', encoding='latin1')\n",
    "constructors2 = constructors.copy() "
   ]
  },
  {
   "cell_type": "code",
   "execution_count": 15,
   "id": "ec3566f3",
   "metadata": {},
   "outputs": [],
   "source": [
    "driver_standings = pd.read_csv('./f1_database/driver_standings.csv', encoding='latin1')\n",
    "driver_standings2 = driver_standings.copy() "
   ]
  },
  {
   "cell_type": "code",
   "execution_count": 16,
   "id": "a35cae1a",
   "metadata": {},
   "outputs": [],
   "source": [
    "drivers = pd.read_csv('./f1_database/drivers.csv', encoding='latin1')\n",
    "drivers2 = drivers.copy() "
   ]
  },
  {
   "cell_type": "code",
   "execution_count": 17,
   "id": "d3395f86",
   "metadata": {},
   "outputs": [],
   "source": [
    "lap_times = pd.read_csv('./f1_database/lap_times.csv', encoding='latin1')\n",
    "lap_times2 = lap_times.copy() "
   ]
  },
  {
   "cell_type": "code",
   "execution_count": 18,
   "id": "8970d27a",
   "metadata": {},
   "outputs": [],
   "source": [
    "pit_stops = pd.read_csv('./f1_database/pit_stops.csv', encoding='latin1')\n",
    "pit_stops2 = pit_stops.copy() "
   ]
  },
  {
   "cell_type": "code",
   "execution_count": 19,
   "id": "cc7c74d2",
   "metadata": {},
   "outputs": [],
   "source": [
    "races = pd.read_csv('./f1_database/races.csv', encoding='latin1')\n",
    "races2 = races.copy() "
   ]
  },
  {
   "cell_type": "code",
   "execution_count": 21,
   "id": "ffd1a8e9",
   "metadata": {},
   "outputs": [],
   "source": [
    "results = pd.read_csv('./f1_database/results.csv', encoding='latin1')\n",
    "results2 = results.copy() "
   ]
  },
  {
   "cell_type": "code",
   "execution_count": 22,
   "id": "3e86a947",
   "metadata": {},
   "outputs": [],
   "source": [
    "seasons = pd.read_csv('./f1_database/seasons.csv', encoding='latin1')\n",
    "seasons2 = seasons.copy() "
   ]
  },
  {
   "cell_type": "code",
   "execution_count": 24,
   "id": "e7d65f65",
   "metadata": {},
   "outputs": [],
   "source": [
    "sprint_results= pd.read_csv('./f1_database/sprint_results.csv', encoding='latin1')\n",
    "sprint_results2 = sprint_results.copy() "
   ]
  },
  {
   "cell_type": "code",
   "execution_count": 31,
   "id": "97d2d371",
   "metadata": {},
   "outputs": [],
   "source": [
    "status = pd.read_csv('./f1_database/status.csv', encoding='latin1')\n",
    "status2 = status.copy() "
   ]
  },
  {
   "cell_type": "markdown",
   "id": "68dbc721",
   "metadata": {},
   "source": [
    "# SCRAPING"
   ]
  },
  {
   "cell_type": "code",
   "execution_count": 63,
   "id": "c2b2883f",
   "metadata": {},
   "outputs": [
    {
     "data": {
      "text/plain": [
       "'<!DOCTYPE html>\\r\\n<html>\\r\\n<head>\\r\\n\\t \\n\\t  \\n\\r\\n    \\t<title>Parrilla de salida GP Abu-Dhabi F1 2022 â\\x80\\x93 Sport</title>\\r\\n    \\t<meta name=\"title\" content=\"Parrilla de salida GP Abu-Dhabi F1 2022 â\\x80\\x93 Sport\" />\\r\\n\\t\\t<meta name=\"description\" content=\"Consulta la calificaciÃ³n del GP Abu-Dhabi 2022. La parrilla de salida de los pilotos de F1 en el GP Abu-Dhabi.\" />\\r\\n\\t\\t<meta name=\"keywords\" content=\"CalificaciÃ³n, GP Abu-Dhabi,f1,2022\" />\\r\\n\\t<link rel=\"canonical\" href=\"https://www.sport.es/es/directo/formula1/gp-abu-dhabi-12diciembre/calificacion/\" />\\r\\n\\t<meta name=\"lang\" content=\"es\" />\\r\\n\\t<meta http-equiv=\"Pragma\" content=\"no-cache\" />\\r\\n\\t<meta name=\"author\" content=\"SPORT\" />\\r\\n\\t<meta name=\"organization\" content=\"Ediciones Deportivas Catalanas \" />\\r\\n\\t<meta name=\"locality\" content=\"Barcelona, Spain\" />\\r\\n\\t<meta name=\"revisit-after\" content=\"1 days\" />\\t\\t\\r\\n\\t<meta name=\"robots\" content=\"INDEX,FOLLOW,NOODP\" />\\r\\n\\t<meta name=\"google-site-verification\" content=\"zYTtzYLjwt4RiryXn/cwjitfy6eqySpudTcgdPRN79M=\" />\\r\\n\\t'"
      ]
     },
     "execution_count": 63,
     "metadata": {},
     "output_type": "execute_result"
    }
   ],
   "source": [
    "url='https://www.sport.es/es/directo/formula1/gp-abu-dhabi-12diciembre/calificacion/'\n",
    "html=req.get(url).text\n",
    "\n",
    "html[:1000]"
   ]
  },
  {
   "cell_type": "code",
   "execution_count": 64,
   "id": "ec9e614f",
   "metadata": {},
   "outputs": [
    {
     "data": {
      "text/plain": [
       "bs4.BeautifulSoup"
      ]
     },
     "execution_count": 64,
     "metadata": {},
     "output_type": "execute_result"
    }
   ],
   "source": [
    "soup=bs(html, 'html.parser')\n",
    "\n",
    "type(soup)"
   ]
  },
  {
   "cell_type": "code",
   "execution_count": 72,
   "id": "00adabf9",
   "metadata": {},
   "outputs": [
    {
     "ename": "IndexError",
     "evalue": "list index out of range",
     "output_type": "error",
     "traceback": [
      "\u001b[0;31m---------------------------------------------------------------------------\u001b[0m",
      "\u001b[0;31mIndexError\u001b[0m                                Traceback (most recent call last)",
      "Input \u001b[0;32mIn [72]\u001b[0m, in \u001b[0;36m<cell line: 1>\u001b[0;34m()\u001b[0m\n\u001b[0;32m----> 1\u001b[0m tabla\u001b[38;5;241m=\u001b[39m\u001b[43msoup\u001b[49m\u001b[38;5;241;43m.\u001b[39;49m\u001b[43mfind_all\u001b[49m\u001b[43m(\u001b[49m\u001b[38;5;124;43m'\u001b[39;49m\u001b[38;5;124;43mdiv class\u001b[39;49m\u001b[38;5;124;43m'\u001b[39;49m\u001b[43m)\u001b[49m\u001b[43m[\u001b[49m\u001b[38;5;241;43m3\u001b[39;49m\u001b[43m]\u001b[49m\n\u001b[1;32m      2\u001b[0m tabla\n",
      "\u001b[0;31mIndexError\u001b[0m: list index out of range"
     ]
    }
   ],
   "source": [
    "tabla=soup.find_all('div class')[3]\n",
    "tabla"
   ]
  },
  {
   "cell_type": "code",
   "execution_count": null,
   "id": "a0894733",
   "metadata": {},
   "outputs": [],
   "source": []
  },
  {
   "cell_type": "code",
   "execution_count": null,
   "id": "f0bac31f",
   "metadata": {},
   "outputs": [],
   "source": []
  },
  {
   "cell_type": "code",
   "execution_count": null,
   "id": "9dd048ab",
   "metadata": {},
   "outputs": [],
   "source": []
  },
  {
   "cell_type": "code",
   "execution_count": null,
   "id": "6f72dcbe",
   "metadata": {},
   "outputs": [],
   "source": []
  }
 ],
 "metadata": {
  "kernelspec": {
   "display_name": "Python 3 (ipykernel)",
   "language": "python",
   "name": "python3"
  },
  "language_info": {
   "codemirror_mode": {
    "name": "ipython",
    "version": 3
   },
   "file_extension": ".py",
   "mimetype": "text/x-python",
   "name": "python",
   "nbconvert_exporter": "python",
   "pygments_lexer": "ipython3",
   "version": "3.9.12"
  }
 },
 "nbformat": 4,
 "nbformat_minor": 5
}
